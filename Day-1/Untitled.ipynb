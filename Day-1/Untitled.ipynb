{
 "cells": [
  {
   "cell_type": "code",
   "execution_count": 3,
   "metadata": {},
   "outputs": [
    {
     "name": "stdout",
     "output_type": "stream",
     "text": [
      "Requirement already satisfied: gTTS in c:\\users\\sipsm\\anaconda3\\lib\\site-packages (2.1.1)\n",
      "Requirement already satisfied: six in c:\\users\\sipsm\\appdata\\roaming\\python\\python38\\site-packages (from gTTS) (1.15.0)\n",
      "Requirement already satisfied: click in c:\\users\\sipsm\\anaconda3\\lib\\site-packages (from gTTS) (7.1.2)\n",
      "Requirement already satisfied: requests in c:\\users\\sipsm\\anaconda3\\lib\\site-packages (from gTTS) (2.24.0)\n",
      "Requirement already satisfied: gtts-token>=1.1.3 in c:\\users\\sipsm\\anaconda3\\lib\\site-packages (from gTTS) (1.1.3)\n",
      "Requirement already satisfied: beautifulsoup4 in c:\\users\\sipsm\\anaconda3\\lib\\site-packages (from gTTS) (4.9.1)\n",
      "Requirement already satisfied: urllib3!=1.25.0,!=1.25.1,<1.26,>=1.21.1 in c:\\users\\sipsm\\anaconda3\\lib\\site-packages (from requests->gTTS) (1.25.9)\n",
      "Requirement already satisfied: chardet<4,>=3.0.2 in c:\\users\\sipsm\\anaconda3\\lib\\site-packages (from requests->gTTS) (3.0.4)\n",
      "Requirement already satisfied: idna<3,>=2.5 in c:\\users\\sipsm\\anaconda3\\lib\\site-packages (from requests->gTTS) (2.10)\n",
      "Requirement already satisfied: certifi>=2017.4.17 in c:\\users\\sipsm\\anaconda3\\lib\\site-packages (from requests->gTTS) (2020.6.20)\n",
      "Requirement already satisfied: soupsieve>1.2 in c:\\users\\sipsm\\anaconda3\\lib\\site-packages (from beautifulsoup4->gTTS) (2.0.1)\n",
      "Requirement already satisfied: playsound in c:\\users\\sipsm\\anaconda3\\lib\\site-packages (1.2.2)\n"
     ]
    }
   ],
   "source": [
    "!pip install gTTS\n",
    "!pip install playsound\n",
    "from gtts import gTTS\n",
    "from playsound import playsound\n",
    "text_val = 'Hello'\n",
    "language = 'en'\n",
    "obj = gTTS(text = text_val , lang = language , slow= False)\n",
    "obj.save(\"abc.mp3\")\n",
    "playsound(\"abc.mp3\")\n",
    "\n"
   ]
  },
  {
   "cell_type": "code",
   "execution_count": null,
   "metadata": {},
   "outputs": [],
   "source": []
  }
 ],
 "metadata": {
  "kernelspec": {
   "display_name": "Python 3",
   "language": "python",
   "name": "python3"
  },
  "language_info": {
   "codemirror_mode": {
    "name": "ipython",
    "version": 3
   },
   "file_extension": ".py",
   "mimetype": "text/x-python",
   "name": "python",
   "nbconvert_exporter": "python",
   "pygments_lexer": "ipython3",
   "version": "3.8.3"
  }
 },
 "nbformat": 4,
 "nbformat_minor": 4
}
